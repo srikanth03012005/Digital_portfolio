{
  "nbformat": 4,
  "nbformat_minor": 0,
  "metadata": {
    "colab": {
      "provenance": [],
      "authorship_tag": "ABX9TyMbB0GusnRfD0076yuEW0oi",
      "include_colab_link": true
    },
    "kernelspec": {
      "name": "python3",
      "display_name": "Python 3"
    },
    "language_info": {
      "name": "python"
    }
  },
  "cells": [
    {
      "cell_type": "markdown",
      "metadata": {
        "id": "view-in-github",
        "colab_type": "text"
      },
      "source": [
        "<a href=\"https://colab.research.google.com/github/srikanth03012005/Digital_portfolio/blob/main/Boolean.ipynb\" target=\"_parent\"><img src=\"https://colab.research.google.com/assets/colab-badge.svg\" alt=\"Open In Colab\"/></a>"
      ]
    },
    {
      "cell_type": "code",
      "source": [
        "# Declare boolean variables\n",
        "is_student = True\n",
        "has_paid_fees = False\n",
        "\n",
        "# Use in if condition\n",
        "if is_student and has_paid_fees:\n",
        "    print(\"Access granted.\")\n",
        "else:\n",
        "    print(\"Access denied.\")\n",
        "\n",
        "# Comparison operations return booleans\n",
        "a = 10\n",
        "b = 5\n",
        "print(\"Is a greater than b?\", a > b)       # True\n",
        "print(\"Is a equal to b?\", a == b)          # False\n",
        "\n",
        "# Check type\n",
        "print(\"Type of is_student:\", type(is_student))"
      ],
      "metadata": {
        "id": "NwtGxutkyIrv",
        "outputId": "0636a91f-5876-4a6c-e394-6e1667ebbdb9",
        "colab": {
          "base_uri": "https://localhost:8080/"
        }
      },
      "execution_count": 10,
      "outputs": [
        {
          "output_type": "stream",
          "name": "stdout",
          "text": [
            "Access denied.\n",
            "Is a greater than b? True\n",
            "Is a equal to b? False\n",
            "Type of is_student: <class 'bool'>\n"
          ]
        }
      ]
    }
  ]
}