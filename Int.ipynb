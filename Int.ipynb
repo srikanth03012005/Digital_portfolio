{
  "nbformat": 4,
  "nbformat_minor": 0,
  "metadata": {
    "colab": {
      "provenance": [],
      "authorship_tag": "ABX9TyOFegCrOyDllw0xiaep78dF",
      "include_colab_link": true
    },
    "kernelspec": {
      "name": "python3",
      "display_name": "Python 3"
    },
    "language_info": {
      "name": "python"
    }
  },
  "cells": [
    {
      "cell_type": "markdown",
      "metadata": {
        "id": "view-in-github",
        "colab_type": "text"
      },
      "source": [
        "<a href=\"https://colab.research.google.com/github/srikanth03012005/Digital_portfolio/blob/main/Int.ipynb\" target=\"_parent\"><img src=\"https://colab.research.google.com/assets/colab-badge.svg\" alt=\"Open In Colab\"/></a>"
      ]
    },
    {
      "cell_type": "code",
      "source": [
        "# Declare integer variables\n",
        "a = 10\n",
        "b = 5\n",
        "\n",
        "# Arithmetic operations\n",
        "sum_result = a + b\n",
        "difference = a - b\n",
        "product = a * b\n",
        "quotient = a // b  # Integer division\n",
        "remainder = a % b\n",
        "\n",
        "# Print results\n",
        "print(\"a =\", a)\n",
        "print(\"b =\", b)\n",
        "print(\"Sum:\", sum_result)\n",
        "print(\"Difference:\", difference)\n",
        "print(\"Product:\", product)\n",
        "print(\"Quotient:\", quotient)\n",
        "print(\"Remainder:\", remainder)\n",
        "\n",
        "# Check data type\n",
        "print(\"Type of a:\", type(a))"
      ],
      "metadata": {
        "colab": {
          "base_uri": "https://localhost:8080/"
        },
        "id": "IUkKS_X4xvdW",
        "outputId": "765dc02d-4a4f-4fb4-8af1-ba6fce0b081e"
      },
      "execution_count": 8,
      "outputs": [
        {
          "output_type": "stream",
          "name": "stdout",
          "text": [
            "a = 10\n",
            "b = 5\n",
            "Sum: 15\n",
            "Difference: 5\n",
            "Product: 50\n",
            "Quotient: 2\n",
            "Remainder: 0\n",
            "Type of a: <class 'int'>\n"
          ]
        }
      ]
    }
  ]
}